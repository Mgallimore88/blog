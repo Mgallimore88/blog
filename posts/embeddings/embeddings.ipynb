{
 "cells": [
  {
   "attachments": {},
   "cell_type": "markdown",
   "metadata": {
    "_cell_guid": "b1076dfc-b9ad-4769-8c92-a6c4dae69d19",
    "_uuid": "8f2839f25d086af736a60e9eeb907d3b93b6e0e5"
   },
   "source": [
    "# What is an embedding layer and how does it work?\n",
    "\n",
    "![image](./network.jpg)\n",
    "\n",
    "In this example I'll make a collaborative filtering model (recommender system) which uses an entity embedding as part of a system for recommending books to users. \n",
    "\n",
    "Embeddings are a neat way to take a large number of individual items (users, products, locations for example), and represent each item using an n-dimensional vector instead of using its unique id. At first this might sound like it would increase the size and complexity of the model - since each item now needs an additional vector representation - but in fact this process reduces the number of individual inputs the model needs to see to be able to make predictions. \n",
    "\n",
    "For example, if we had an embedding for 1000 book titles, without an embedding layer the model would need to see each unique ID and learn the difference between them. An embedding vector for each of these book titles might be 2 dimensions deep, and might encode for each book's sci-fi-ness and its length. This means we could feed this two dimensional embedding vector as input to the model rather than the 1000 individual titles. Since those inputs represent something real about the book, that might be enough information to make sensible predictions with. In a sense the embedding compresses information about each of the N inputs into an n dimensional vector. \n",
    "\n",
    "In this blog post I'll follow a similar process to the one outlined in the fast.ai course which used the movielens dataset. I'll aim to explain some nuances about embedding layers, since I found this concept pretty confusing at first. Now that I've got my head around them I'm pretty amazed at how elegant, powerful and useful embeddings can be, and I'm excited to start trying out creative uses for embeddings. \n",
    "\n",
    "Read more on embeddings in this paper: [Guo, Cheng et al. “Entity Embeddings of Categorical Variables”](https://arxiv.org/pdf/1604.06737.pdf)"
   ]
  },
  {
   "cell_type": "code",
   "execution_count": null,
   "metadata": {
    "execution": {
     "iopub.execute_input": "2023-06-27T04:46:00.429673Z",
     "iopub.status.busy": "2023-06-27T04:46:00.428906Z",
     "iopub.status.idle": "2023-06-27T04:46:04.535953Z",
     "shell.execute_reply": "2023-06-27T04:46:04.535039Z",
     "shell.execute_reply.started": "2023-06-27T04:46:00.429637Z"
    },
    "trusted": true
   },
   "outputs": [],
   "source": [
    "import numpy as np # linear algebra\n",
    "import pandas as pd # data processing, CSV file I/O (e.g. pd.read_csv)\n",
    "from fastai.collab import *\n",
    "from fastai.tabular.all import *"
   ]
  },
  {
   "cell_type": "code",
   "execution_count": 2,
   "metadata": {
    "execution": {
     "iopub.execute_input": "2023-06-27T04:46:04.538723Z",
     "iopub.status.busy": "2023-06-27T04:46:04.538046Z",
     "iopub.status.idle": "2023-06-27T04:46:04.545527Z",
     "shell.execute_reply": "2023-06-27T04:46:04.544664Z",
     "shell.execute_reply.started": "2023-06-27T04:46:04.538689Z"
    },
    "trusted": true
   },
   "outputs": [],
   "source": [
    "def display_all(df):\n",
    "    with pd.set_option('display.max_columns', 0, 'display.max_rows', 0):\n",
    "        print(df)"
   ]
  },
  {
   "cell_type": "code",
   "execution_count": 3,
   "metadata": {
    "execution": {
     "iopub.execute_input": "2023-06-27T04:46:04.547671Z",
     "iopub.status.busy": "2023-06-27T04:46:04.546896Z",
     "iopub.status.idle": "2023-06-27T04:46:04.557619Z",
     "shell.execute_reply": "2023-06-27T04:46:04.556637Z",
     "shell.execute_reply.started": "2023-06-27T04:46:04.547640Z"
    },
    "trusted": true
   },
   "outputs": [],
   "source": [
    "path = Path('/kaggle/input/book-recommendation-dataset/')"
   ]
  },
  {
   "attachments": {},
   "cell_type": "markdown",
   "metadata": {},
   "source": [
    "# Loading the data into Pandas\n",
    "It doesn't look like much, but the Ratings.csv file contains all the data we need to train a collaborative filtering model: a user column, the ISBN of a book, and the rating a user gave for that book. \n",
    "\n",
    "It will be easier for us to understand if we can replace the book's ISBN with its title, so the Books.csv file is used to find the titles. "
   ]
  },
  {
   "cell_type": "code",
   "execution_count": 4,
   "metadata": {
    "execution": {
     "iopub.execute_input": "2023-06-27T04:46:04.560631Z",
     "iopub.status.busy": "2023-06-27T04:46:04.560311Z",
     "iopub.status.idle": "2023-06-27T04:46:07.859769Z",
     "shell.execute_reply": "2023-06-27T04:46:07.858421Z",
     "shell.execute_reply.started": "2023-06-27T04:46:04.560601Z"
    },
    "trusted": true
   },
   "outputs": [
    {
     "data": {
      "text/html": [
       "<div>\n",
       "<style scoped>\n",
       "    .dataframe tbody tr th:only-of-type {\n",
       "        vertical-align: middle;\n",
       "    }\n",
       "\n",
       "    .dataframe tbody tr th {\n",
       "        vertical-align: top;\n",
       "    }\n",
       "\n",
       "    .dataframe thead th {\n",
       "        text-align: right;\n",
       "    }\n",
       "</style>\n",
       "<table border=\"1\" class=\"dataframe\">\n",
       "  <thead>\n",
       "    <tr style=\"text-align: right;\">\n",
       "      <th></th>\n",
       "      <th>User-ID</th>\n",
       "      <th>ISBN</th>\n",
       "      <th>Book-Rating</th>\n",
       "    </tr>\n",
       "  </thead>\n",
       "  <tbody>\n",
       "    <tr>\n",
       "      <th>0</th>\n",
       "      <td>276725</td>\n",
       "      <td>034545104X</td>\n",
       "      <td>0</td>\n",
       "    </tr>\n",
       "    <tr>\n",
       "      <th>1</th>\n",
       "      <td>276726</td>\n",
       "      <td>0155061224</td>\n",
       "      <td>5</td>\n",
       "    </tr>\n",
       "    <tr>\n",
       "      <th>2</th>\n",
       "      <td>276727</td>\n",
       "      <td>0446520802</td>\n",
       "      <td>0</td>\n",
       "    </tr>\n",
       "    <tr>\n",
       "      <th>3</th>\n",
       "      <td>276729</td>\n",
       "      <td>052165615X</td>\n",
       "      <td>3</td>\n",
       "    </tr>\n",
       "    <tr>\n",
       "      <th>4</th>\n",
       "      <td>276729</td>\n",
       "      <td>0521795028</td>\n",
       "      <td>6</td>\n",
       "    </tr>\n",
       "  </tbody>\n",
       "</table>\n",
       "</div>"
      ],
      "text/plain": [
       "   User-ID        ISBN  Book-Rating\n",
       "0   276725  034545104X            0\n",
       "1   276726  0155061224            5\n",
       "2   276727  0446520802            0\n",
       "3   276729  052165615X            3\n",
       "4   276729  0521795028            6"
      ]
     },
     "execution_count": 4,
     "metadata": {},
     "output_type": "execute_result"
    }
   ],
   "source": [
    "ratings = pd.read_csv(path/'Ratings.csv')\n",
    "books = pd.read_csv(path/'Books.csv', low_memory=False)\n",
    "ratings.head()"
   ]
  },
  {
   "attachments": {},
   "cell_type": "markdown",
   "metadata": {},
   "source": [
    "# Scaling\n",
    "Here I'm dividing all the ratings by 10 so they all lie between 0 and 1 instead of 0 and 10. I wanted to see what effect this had on the loss during training. It reduced the loss by an order of magnitude. This isn't a meaningful increase in accuracy - it just means that the size of the errors is correspondingly lower since we're operating within a smaller target range. Regarless I decided to keep the ratings scaled between 0 and 1 since I think it's just as easy to understand this scale, plus there might be some benefit to this for models with more features. [Click here to read more about scaling.](\n",
    "https://developers.google.com/machine-learning/crash-course/representation/cleaning-data)"
   ]
  },
  {
   "cell_type": "code",
   "execution_count": 5,
   "metadata": {
    "execution": {
     "iopub.execute_input": "2023-06-27T04:46:07.862230Z",
     "iopub.status.busy": "2023-06-27T04:46:07.861517Z",
     "iopub.status.idle": "2023-06-27T04:46:07.882340Z",
     "shell.execute_reply": "2023-06-27T04:46:07.881364Z",
     "shell.execute_reply.started": "2023-06-27T04:46:07.862189Z"
    },
    "trusted": true
   },
   "outputs": [],
   "source": [
    "ratings['Book-Rating']=ratings['Book-Rating'].divide(10)"
   ]
  },
  {
   "cell_type": "code",
   "execution_count": 6,
   "metadata": {
    "execution": {
     "iopub.execute_input": "2023-06-27T04:46:07.884329Z",
     "iopub.status.busy": "2023-06-27T04:46:07.883955Z",
     "iopub.status.idle": "2023-06-27T04:46:08.992661Z",
     "shell.execute_reply": "2023-06-27T04:46:08.991502Z",
     "shell.execute_reply.started": "2023-06-27T04:46:07.884297Z"
    },
    "trusted": true
   },
   "outputs": [
    {
     "data": {
      "text/html": [
       "<div>\n",
       "<style scoped>\n",
       "    .dataframe tbody tr th:only-of-type {\n",
       "        vertical-align: middle;\n",
       "    }\n",
       "\n",
       "    .dataframe tbody tr th {\n",
       "        vertical-align: top;\n",
       "    }\n",
       "\n",
       "    .dataframe thead th {\n",
       "        text-align: right;\n",
       "    }\n",
       "</style>\n",
       "<table border=\"1\" class=\"dataframe\">\n",
       "  <thead>\n",
       "    <tr style=\"text-align: right;\">\n",
       "      <th></th>\n",
       "      <th>User-ID</th>\n",
       "      <th>ISBN</th>\n",
       "      <th>Book-Rating</th>\n",
       "      <th>Book-Title</th>\n",
       "      <th>Book-Author</th>\n",
       "      <th>Year-Of-Publication</th>\n",
       "      <th>Publisher</th>\n",
       "      <th>Image-URL-S</th>\n",
       "      <th>Image-URL-M</th>\n",
       "      <th>Image-URL-L</th>\n",
       "    </tr>\n",
       "  </thead>\n",
       "  <tbody>\n",
       "    <tr>\n",
       "      <th>0</th>\n",
       "      <td>276725</td>\n",
       "      <td>034545104X</td>\n",
       "      <td>0.0</td>\n",
       "      <td>Flesh Tones: A Novel</td>\n",
       "      <td>M. J. Rose</td>\n",
       "      <td>2002</td>\n",
       "      <td>Ballantine Books</td>\n",
       "      <td>http://images.amazon.com/images/P/034545104X.01.THUMBZZZ.jpg</td>\n",
       "      <td>http://images.amazon.com/images/P/034545104X.01.MZZZZZZZ.jpg</td>\n",
       "      <td>http://images.amazon.com/images/P/034545104X.01.LZZZZZZZ.jpg</td>\n",
       "    </tr>\n",
       "    <tr>\n",
       "      <th>1</th>\n",
       "      <td>2313</td>\n",
       "      <td>034545104X</td>\n",
       "      <td>0.5</td>\n",
       "      <td>Flesh Tones: A Novel</td>\n",
       "      <td>M. J. Rose</td>\n",
       "      <td>2002</td>\n",
       "      <td>Ballantine Books</td>\n",
       "      <td>http://images.amazon.com/images/P/034545104X.01.THUMBZZZ.jpg</td>\n",
       "      <td>http://images.amazon.com/images/P/034545104X.01.MZZZZZZZ.jpg</td>\n",
       "      <td>http://images.amazon.com/images/P/034545104X.01.LZZZZZZZ.jpg</td>\n",
       "    </tr>\n",
       "    <tr>\n",
       "      <th>2</th>\n",
       "      <td>6543</td>\n",
       "      <td>034545104X</td>\n",
       "      <td>0.0</td>\n",
       "      <td>Flesh Tones: A Novel</td>\n",
       "      <td>M. J. Rose</td>\n",
       "      <td>2002</td>\n",
       "      <td>Ballantine Books</td>\n",
       "      <td>http://images.amazon.com/images/P/034545104X.01.THUMBZZZ.jpg</td>\n",
       "      <td>http://images.amazon.com/images/P/034545104X.01.MZZZZZZZ.jpg</td>\n",
       "      <td>http://images.amazon.com/images/P/034545104X.01.LZZZZZZZ.jpg</td>\n",
       "    </tr>\n",
       "    <tr>\n",
       "      <th>3</th>\n",
       "      <td>8680</td>\n",
       "      <td>034545104X</td>\n",
       "      <td>0.5</td>\n",
       "      <td>Flesh Tones: A Novel</td>\n",
       "      <td>M. J. Rose</td>\n",
       "      <td>2002</td>\n",
       "      <td>Ballantine Books</td>\n",
       "      <td>http://images.amazon.com/images/P/034545104X.01.THUMBZZZ.jpg</td>\n",
       "      <td>http://images.amazon.com/images/P/034545104X.01.MZZZZZZZ.jpg</td>\n",
       "      <td>http://images.amazon.com/images/P/034545104X.01.LZZZZZZZ.jpg</td>\n",
       "    </tr>\n",
       "    <tr>\n",
       "      <th>4</th>\n",
       "      <td>10314</td>\n",
       "      <td>034545104X</td>\n",
       "      <td>0.9</td>\n",
       "      <td>Flesh Tones: A Novel</td>\n",
       "      <td>M. J. Rose</td>\n",
       "      <td>2002</td>\n",
       "      <td>Ballantine Books</td>\n",
       "      <td>http://images.amazon.com/images/P/034545104X.01.THUMBZZZ.jpg</td>\n",
       "      <td>http://images.amazon.com/images/P/034545104X.01.MZZZZZZZ.jpg</td>\n",
       "      <td>http://images.amazon.com/images/P/034545104X.01.LZZZZZZZ.jpg</td>\n",
       "    </tr>\n",
       "  </tbody>\n",
       "</table>\n",
       "</div>"
      ],
      "text/plain": [
       "   User-ID        ISBN  Book-Rating            Book-Title Book-Author  \\\n",
       "0   276725  034545104X          0.0  Flesh Tones: A Novel  M. J. Rose   \n",
       "1     2313  034545104X          0.5  Flesh Tones: A Novel  M. J. Rose   \n",
       "2     6543  034545104X          0.0  Flesh Tones: A Novel  M. J. Rose   \n",
       "3     8680  034545104X          0.5  Flesh Tones: A Novel  M. J. Rose   \n",
       "4    10314  034545104X          0.9  Flesh Tones: A Novel  M. J. Rose   \n",
       "\n",
       "  Year-Of-Publication         Publisher  \\\n",
       "0                2002  Ballantine Books   \n",
       "1                2002  Ballantine Books   \n",
       "2                2002  Ballantine Books   \n",
       "3                2002  Ballantine Books   \n",
       "4                2002  Ballantine Books   \n",
       "\n",
       "                                                    Image-URL-S  \\\n",
       "0  http://images.amazon.com/images/P/034545104X.01.THUMBZZZ.jpg   \n",
       "1  http://images.amazon.com/images/P/034545104X.01.THUMBZZZ.jpg   \n",
       "2  http://images.amazon.com/images/P/034545104X.01.THUMBZZZ.jpg   \n",
       "3  http://images.amazon.com/images/P/034545104X.01.THUMBZZZ.jpg   \n",
       "4  http://images.amazon.com/images/P/034545104X.01.THUMBZZZ.jpg   \n",
       "\n",
       "                                                    Image-URL-M  \\\n",
       "0  http://images.amazon.com/images/P/034545104X.01.MZZZZZZZ.jpg   \n",
       "1  http://images.amazon.com/images/P/034545104X.01.MZZZZZZZ.jpg   \n",
       "2  http://images.amazon.com/images/P/034545104X.01.MZZZZZZZ.jpg   \n",
       "3  http://images.amazon.com/images/P/034545104X.01.MZZZZZZZ.jpg   \n",
       "4  http://images.amazon.com/images/P/034545104X.01.MZZZZZZZ.jpg   \n",
       "\n",
       "                                                    Image-URL-L  \n",
       "0  http://images.amazon.com/images/P/034545104X.01.LZZZZZZZ.jpg  \n",
       "1  http://images.amazon.com/images/P/034545104X.01.LZZZZZZZ.jpg  \n",
       "2  http://images.amazon.com/images/P/034545104X.01.LZZZZZZZ.jpg  \n",
       "3  http://images.amazon.com/images/P/034545104X.01.LZZZZZZZ.jpg  \n",
       "4  http://images.amazon.com/images/P/034545104X.01.LZZZZZZZ.jpg  "
      ]
     },
     "execution_count": 6,
     "metadata": {},
     "output_type": "execute_result"
    }
   ],
   "source": [
    "ratings = ratings.merge(books)\n",
    "ratings.head()"
   ]
  },
  {
   "cell_type": "code",
   "execution_count": 7,
   "metadata": {
    "execution": {
     "iopub.execute_input": "2023-06-27T04:46:08.994753Z",
     "iopub.status.busy": "2023-06-27T04:46:08.994323Z",
     "iopub.status.idle": "2023-06-27T04:46:09.077000Z",
     "shell.execute_reply": "2023-06-27T04:46:09.075630Z",
     "shell.execute_reply.started": "2023-06-27T04:46:08.994719Z"
    },
    "trusted": true
   },
   "outputs": [
    {
     "data": {
      "text/html": [
       "<div>\n",
       "<style scoped>\n",
       "    .dataframe tbody tr th:only-of-type {\n",
       "        vertical-align: middle;\n",
       "    }\n",
       "\n",
       "    .dataframe tbody tr th {\n",
       "        vertical-align: top;\n",
       "    }\n",
       "\n",
       "    .dataframe thead th {\n",
       "        text-align: right;\n",
       "    }\n",
       "</style>\n",
       "<table border=\"1\" class=\"dataframe\">\n",
       "  <thead>\n",
       "    <tr style=\"text-align: right;\">\n",
       "      <th></th>\n",
       "      <th>user</th>\n",
       "      <th>title</th>\n",
       "      <th>rating</th>\n",
       "    </tr>\n",
       "  </thead>\n",
       "  <tbody>\n",
       "    <tr>\n",
       "      <th>0</th>\n",
       "      <td>276725</td>\n",
       "      <td>Flesh Tones: A Novel</td>\n",
       "      <td>0.0</td>\n",
       "    </tr>\n",
       "    <tr>\n",
       "      <th>1</th>\n",
       "      <td>2313</td>\n",
       "      <td>Flesh Tones: A Novel</td>\n",
       "      <td>0.5</td>\n",
       "    </tr>\n",
       "    <tr>\n",
       "      <th>2</th>\n",
       "      <td>6543</td>\n",
       "      <td>Flesh Tones: A Novel</td>\n",
       "      <td>0.0</td>\n",
       "    </tr>\n",
       "    <tr>\n",
       "      <th>3</th>\n",
       "      <td>8680</td>\n",
       "      <td>Flesh Tones: A Novel</td>\n",
       "      <td>0.5</td>\n",
       "    </tr>\n",
       "    <tr>\n",
       "      <th>4</th>\n",
       "      <td>10314</td>\n",
       "      <td>Flesh Tones: A Novel</td>\n",
       "      <td>0.9</td>\n",
       "    </tr>\n",
       "  </tbody>\n",
       "</table>\n",
       "</div>"
      ],
      "text/plain": [
       "     user                 title  rating\n",
       "0  276725  Flesh Tones: A Novel     0.0\n",
       "1    2313  Flesh Tones: A Novel     0.5\n",
       "2    6543  Flesh Tones: A Novel     0.0\n",
       "3    8680  Flesh Tones: A Novel     0.5\n",
       "4   10314  Flesh Tones: A Novel     0.9"
      ]
     },
     "execution_count": 7,
     "metadata": {},
     "output_type": "execute_result"
    }
   ],
   "source": [
    "keep_list = ['User-ID', 'Book-Title', 'Book-Rating',]\n",
    "del_list = ratings.columns.drop(keep_list)\n",
    "del_list\n",
    "ratings = ratings.drop(del_list, axis = 1)\n",
    "ratings = ratings[keep_list] # changes the order\n",
    "ratings = ratings.rename(columns={'User-ID': 'user', 'Book-Title': 'title', 'Book-Rating': 'rating'})\n",
    "ratings.head()"
   ]
  },
  {
   "attachments": {},
   "cell_type": "markdown",
   "metadata": {},
   "source": [
    "# Now we've got a table of book titles, ratings and user IDs. Let's make a fastai Dataloaders object\n",
    "The dataloaders object specifies a way of getting a series of mini batches (training and validation) from a dataset. Here our model will be a collaborative filtering model, which is a little different to what we've seen before with image recognition problems. In this case we'll be using the __book rating__ as the label, and the __book-title__ and __user-id__ as the input features. \n",
    "\n",
    "## Embeddings\n",
    "Since there are hundreds of thousands of individual user IDs, and many more book titles, it will be useful to __compress this data__ in some way - __in a way which keeps the relevant information about each user and book__, but doesn't require the model to learn each individual user ID or book title. This is where Embeddings come in handy.  "
   ]
  },
  {
   "cell_type": "code",
   "execution_count": 8,
   "metadata": {
    "execution": {
     "iopub.execute_input": "2023-06-27T04:46:09.079447Z",
     "iopub.status.busy": "2023-06-27T04:46:09.079032Z",
     "iopub.status.idle": "2023-06-27T04:46:11.311286Z",
     "shell.execute_reply": "2023-06-27T04:46:11.310334Z",
     "shell.execute_reply.started": "2023-06-27T04:46:09.079413Z"
    },
    "trusted": true
   },
   "outputs": [],
   "source": [
    "dls = CollabDataLoaders.from_df(ratings, item_name='title', bs=16)"
   ]
  },
  {
   "attachments": {},
   "cell_type": "markdown",
   "metadata": {},
   "source": [
    "# Now let's make a dataloaders object\n",
    "The dataloaders object gives us a quick way of getting a batch of features and labels from separate training and validation datasets. Below we can see pairings of 16 input features- users with book titles- and the corresponding label for these features, which is the rating the user gave for the book. 16 is the batch size, which I've chosen to be a small number for displaying here - but I'll change it to 64 later and experiment with different batch sizes. "
   ]
  },
  {
   "cell_type": "code",
   "execution_count": 9,
   "metadata": {
    "execution": {
     "iopub.execute_input": "2023-06-27T04:46:11.313058Z",
     "iopub.status.busy": "2023-06-27T04:46:11.312715Z",
     "iopub.status.idle": "2023-06-27T04:46:12.278920Z",
     "shell.execute_reply": "2023-06-27T04:46:12.277906Z",
     "shell.execute_reply.started": "2023-06-27T04:46:11.313026Z"
    },
    "trusted": true
   },
   "outputs": [
    {
     "data": {
      "text/plain": [
       "(tensor([[  4648,  17499],\n",
       "         [ 47035,  71643],\n",
       "         [ 80274, 172179],\n",
       "         [ 70742,  51917],\n",
       "         [ 80254,  91689],\n",
       "         [ 29527, 202962],\n",
       "         [ 46094,  78241],\n",
       "         [ 71592,  69112],\n",
       "         [ 45123, 152087],\n",
       "         [   167,  11511],\n",
       "         [  4649, 153008],\n",
       "         [ 58572, 153828],\n",
       "         [ 73899, 172135],\n",
       "         [  7868, 119495],\n",
       "         [ 17158,  55868],\n",
       "         [ 65724, 126796]]),\n",
       " tensor([[0.0000],\n",
       "         [0.0000],\n",
       "         [0.0000],\n",
       "         [0.5000],\n",
       "         [0.0000],\n",
       "         [0.9000],\n",
       "         [0.0000],\n",
       "         [0.8000],\n",
       "         [0.0000],\n",
       "         [0.9000],\n",
       "         [0.0000],\n",
       "         [0.9000],\n",
       "         [0.0000],\n",
       "         [0.0000],\n",
       "         [0.8000],\n",
       "         [0.0000]]))"
      ]
     },
     "execution_count": 9,
     "metadata": {},
     "output_type": "execute_result"
    }
   ],
   "source": [
    "dls.one_batch()"
   ]
  },
  {
   "cell_type": "code",
   "execution_count": 10,
   "metadata": {
    "execution": {
     "iopub.execute_input": "2023-06-27T04:46:12.283667Z",
     "iopub.status.busy": "2023-06-27T04:46:12.283375Z",
     "iopub.status.idle": "2023-06-27T04:46:12.585774Z",
     "shell.execute_reply": "2023-06-27T04:46:12.584868Z",
     "shell.execute_reply.started": "2023-06-27T04:46:12.283643Z"
    },
    "trusted": true
   },
   "outputs": [
    {
     "data": {
      "text/html": [
       "<table border=\"1\" class=\"dataframe\">\n",
       "  <thead>\n",
       "    <tr style=\"text-align: right;\">\n",
       "      <th></th>\n",
       "      <th>user</th>\n",
       "      <th>title</th>\n",
       "      <th>rating</th>\n",
       "    </tr>\n",
       "  </thead>\n",
       "  <tbody>\n",
       "    <tr>\n",
       "      <th>0</th>\n",
       "      <td>10819</td>\n",
       "      <td>Second Foundation (Foundation Novels (Paperback))</td>\n",
       "      <td>0.8</td>\n",
       "    </tr>\n",
       "    <tr>\n",
       "      <th>1</th>\n",
       "      <td>94159</td>\n",
       "      <td>Too Good to Be True: The Colossal Book of Urban Legends</td>\n",
       "      <td>0.0</td>\n",
       "    </tr>\n",
       "    <tr>\n",
       "      <th>2</th>\n",
       "      <td>#na#</td>\n",
       "      <td>The Heart of a Goof (Penguin Books)</td>\n",
       "      <td>0.9</td>\n",
       "    </tr>\n",
       "    <tr>\n",
       "      <th>3</th>\n",
       "      <td>214272</td>\n",
       "      <td>Skyline</td>\n",
       "      <td>0.0</td>\n",
       "    </tr>\n",
       "    <tr>\n",
       "      <th>4</th>\n",
       "      <td>238781</td>\n",
       "      <td>Accidental Tourist</td>\n",
       "      <td>0.0</td>\n",
       "    </tr>\n",
       "    <tr>\n",
       "      <th>5</th>\n",
       "      <td>143253</td>\n",
       "      <td>Mitzi and the Terrible Tyrannosaurus Rex</td>\n",
       "      <td>0.0</td>\n",
       "    </tr>\n",
       "    <tr>\n",
       "      <th>6</th>\n",
       "      <td>93047</td>\n",
       "      <td>Strangers on a Train</td>\n",
       "      <td>0.8</td>\n",
       "    </tr>\n",
       "    <tr>\n",
       "      <th>7</th>\n",
       "      <td>234281</td>\n",
       "      <td>Apocalypse sur commande</td>\n",
       "      <td>0.8</td>\n",
       "    </tr>\n",
       "    <tr>\n",
       "      <th>8</th>\n",
       "      <td>13552</td>\n",
       "      <td>Four To Score (A Stephanie Plum Novel)</td>\n",
       "      <td>0.0</td>\n",
       "    </tr>\n",
       "    <tr>\n",
       "      <th>9</th>\n",
       "      <td>205980</td>\n",
       "      <td>The Joy Luck Club</td>\n",
       "      <td>0.0</td>\n",
       "    </tr>\n",
       "  </tbody>\n",
       "</table>"
      ],
      "text/plain": [
       "<IPython.core.display.HTML object>"
      ]
     },
     "metadata": {},
     "output_type": "display_data"
    }
   ],
   "source": [
    "dls.valid.show_batch()"
   ]
  },
  {
   "attachments": {},
   "cell_type": "markdown",
   "metadata": {},
   "source": [
    "## Take a sample\n",
    "To speed up development and testing We'll work with a random sample of 300,000 users from the dataset."
   ]
  },
  {
   "cell_type": "code",
   "execution_count": 11,
   "metadata": {
    "execution": {
     "iopub.execute_input": "2023-06-27T04:46:12.588097Z",
     "iopub.status.busy": "2023-06-27T04:46:12.587538Z",
     "iopub.status.idle": "2023-06-27T04:46:13.583211Z",
     "shell.execute_reply": "2023-06-27T04:46:13.582247Z",
     "shell.execute_reply.started": "2023-06-27T04:46:12.588063Z"
    },
    "trusted": true
   },
   "outputs": [],
   "source": [
    "number_of_samples = 300000\n",
    "df=ratings.sample(number_of_samples)\n",
    "dls = CollabDataLoaders.from_df(df, item_name='title', bs=64)"
   ]
  },
  {
   "attachments": {},
   "cell_type": "markdown",
   "metadata": {},
   "source": [
    "# Crosstab\n",
    "Here's a crosstab representation of the data. This is how we'll think of the data, though in reality all the model will see is one batch from the dataloaders object at a time. Note that the table is very sparsely populated - this is because most users haven't read many of the books in the table. "
   ]
  },
  {
   "cell_type": "code",
   "execution_count": 12,
   "metadata": {
    "execution": {
     "iopub.execute_input": "2023-06-27T04:46:13.585192Z",
     "iopub.status.busy": "2023-06-27T04:46:13.584803Z",
     "iopub.status.idle": "2023-06-27T04:46:13.640632Z",
     "shell.execute_reply": "2023-06-27T04:46:13.639480Z",
     "shell.execute_reply.started": "2023-06-27T04:46:13.585155Z"
    },
    "trusted": true
   },
   "outputs": [
    {
     "data": {
      "text/html": [
       "<div>\n",
       "<style scoped>\n",
       "    .dataframe tbody tr th:only-of-type {\n",
       "        vertical-align: middle;\n",
       "    }\n",
       "\n",
       "    .dataframe tbody tr th {\n",
       "        vertical-align: top;\n",
       "    }\n",
       "\n",
       "    .dataframe thead th {\n",
       "        text-align: right;\n",
       "    }\n",
       "</style>\n",
       "<table border=\"1\" class=\"dataframe\">\n",
       "  <thead>\n",
       "    <tr style=\"text-align: right;\">\n",
       "      <th>title</th>\n",
       "      <th>A Destiny of Love</th>\n",
       "      <th>A Farewell to Arms (A Scribner Classic)</th>\n",
       "      <th>A Fine Balance</th>\n",
       "      <th>Angelica's Grotto</th>\n",
       "      <th>Beauty: A Retelling of the Story of Beauty and the Beast</th>\n",
       "      <th>Black Lightning</th>\n",
       "      <th>Breath of Magic</th>\n",
       "      <th>Carlucci's Edge</th>\n",
       "      <th>Cat's Eye</th>\n",
       "      <th>Clan Novel: Assamite</th>\n",
       "      <th>...</th>\n",
       "      <th>The Handmaid's Tale</th>\n",
       "      <th>The MacKade Brothers: Devin and Shane (Silhouette Single Title)</th>\n",
       "      <th>The Nectar of Instruction</th>\n",
       "      <th>The Perfect Neighbor (The Macgregors) (The Macgregors : Special Edition Series, No 1232)</th>\n",
       "      <th>The Twits</th>\n",
       "      <th>The Winter of Our Discontent (Penguin Twentieth-Century Classics)</th>\n",
       "      <th>Thurston House</th>\n",
       "      <th>Turbulence</th>\n",
       "      <th>Vida de Una Geisha</th>\n",
       "      <th>Violets Are Blue</th>\n",
       "    </tr>\n",
       "    <tr>\n",
       "      <th>user</th>\n",
       "      <th></th>\n",
       "      <th></th>\n",
       "      <th></th>\n",
       "      <th></th>\n",
       "      <th></th>\n",
       "      <th></th>\n",
       "      <th></th>\n",
       "      <th></th>\n",
       "      <th></th>\n",
       "      <th></th>\n",
       "      <th></th>\n",
       "      <th></th>\n",
       "      <th></th>\n",
       "      <th></th>\n",
       "      <th></th>\n",
       "      <th></th>\n",
       "      <th></th>\n",
       "      <th></th>\n",
       "      <th></th>\n",
       "      <th></th>\n",
       "      <th></th>\n",
       "    </tr>\n",
       "  </thead>\n",
       "  <tbody>\n",
       "    <tr>\n",
       "      <th>1485</th>\n",
       "      <td>NaN</td>\n",
       "      <td>NaN</td>\n",
       "      <td>NaN</td>\n",
       "      <td>NaN</td>\n",
       "      <td>NaN</td>\n",
       "      <td>NaN</td>\n",
       "      <td>NaN</td>\n",
       "      <td>NaN</td>\n",
       "      <td>NaN</td>\n",
       "      <td>NaN</td>\n",
       "      <td>...</td>\n",
       "      <td>NaN</td>\n",
       "      <td>NaN</td>\n",
       "      <td>NaN</td>\n",
       "      <td>NaN</td>\n",
       "      <td>NaN</td>\n",
       "      <td>NaN</td>\n",
       "      <td>NaN</td>\n",
       "      <td>NaN</td>\n",
       "      <td>NaN</td>\n",
       "      <td>NaN</td>\n",
       "    </tr>\n",
       "    <tr>\n",
       "      <th>5769</th>\n",
       "      <td>NaN</td>\n",
       "      <td>NaN</td>\n",
       "      <td>NaN</td>\n",
       "      <td>NaN</td>\n",
       "      <td>NaN</td>\n",
       "      <td>NaN</td>\n",
       "      <td>0.0</td>\n",
       "      <td>NaN</td>\n",
       "      <td>NaN</td>\n",
       "      <td>NaN</td>\n",
       "      <td>...</td>\n",
       "      <td>NaN</td>\n",
       "      <td>NaN</td>\n",
       "      <td>NaN</td>\n",
       "      <td>NaN</td>\n",
       "      <td>NaN</td>\n",
       "      <td>NaN</td>\n",
       "      <td>NaN</td>\n",
       "      <td>NaN</td>\n",
       "      <td>NaN</td>\n",
       "      <td>NaN</td>\n",
       "    </tr>\n",
       "    <tr>\n",
       "      <th>7500</th>\n",
       "      <td>NaN</td>\n",
       "      <td>NaN</td>\n",
       "      <td>NaN</td>\n",
       "      <td>NaN</td>\n",
       "      <td>NaN</td>\n",
       "      <td>NaN</td>\n",
       "      <td>NaN</td>\n",
       "      <td>NaN</td>\n",
       "      <td>NaN</td>\n",
       "      <td>NaN</td>\n",
       "      <td>...</td>\n",
       "      <td>NaN</td>\n",
       "      <td>NaN</td>\n",
       "      <td>NaN</td>\n",
       "      <td>NaN</td>\n",
       "      <td>NaN</td>\n",
       "      <td>NaN</td>\n",
       "      <td>NaN</td>\n",
       "      <td>NaN</td>\n",
       "      <td>NaN</td>\n",
       "      <td>0.7</td>\n",
       "    </tr>\n",
       "    <tr>\n",
       "      <th>14362</th>\n",
       "      <td>NaN</td>\n",
       "      <td>NaN</td>\n",
       "      <td>NaN</td>\n",
       "      <td>NaN</td>\n",
       "      <td>NaN</td>\n",
       "      <td>NaN</td>\n",
       "      <td>NaN</td>\n",
       "      <td>NaN</td>\n",
       "      <td>NaN</td>\n",
       "      <td>NaN</td>\n",
       "      <td>...</td>\n",
       "      <td>NaN</td>\n",
       "      <td>NaN</td>\n",
       "      <td>NaN</td>\n",
       "      <td>NaN</td>\n",
       "      <td>NaN</td>\n",
       "      <td>NaN</td>\n",
       "      <td>NaN</td>\n",
       "      <td>NaN</td>\n",
       "      <td>NaN</td>\n",
       "      <td>NaN</td>\n",
       "    </tr>\n",
       "    <tr>\n",
       "      <th>21576</th>\n",
       "      <td>NaN</td>\n",
       "      <td>NaN</td>\n",
       "      <td>NaN</td>\n",
       "      <td>NaN</td>\n",
       "      <td>NaN</td>\n",
       "      <td>NaN</td>\n",
       "      <td>NaN</td>\n",
       "      <td>NaN</td>\n",
       "      <td>0.0</td>\n",
       "      <td>NaN</td>\n",
       "      <td>...</td>\n",
       "      <td>NaN</td>\n",
       "      <td>NaN</td>\n",
       "      <td>NaN</td>\n",
       "      <td>NaN</td>\n",
       "      <td>NaN</td>\n",
       "      <td>NaN</td>\n",
       "      <td>NaN</td>\n",
       "      <td>NaN</td>\n",
       "      <td>NaN</td>\n",
       "      <td>NaN</td>\n",
       "    </tr>\n",
       "  </tbody>\n",
       "</table>\n",
       "<p>5 rows × 50 columns</p>\n",
       "</div>"
      ],
      "text/plain": [
       "title  A Destiny of Love  A Farewell to Arms (A Scribner Classic)  \\\n",
       "user                                                                \n",
       "1485                 NaN                                      NaN   \n",
       "5769                 NaN                                      NaN   \n",
       "7500                 NaN                                      NaN   \n",
       "14362                NaN                                      NaN   \n",
       "21576                NaN                                      NaN   \n",
       "\n",
       "title  A Fine Balance  Angelica's Grotto  \\\n",
       "user                                       \n",
       "1485              NaN                NaN   \n",
       "5769              NaN                NaN   \n",
       "7500              NaN                NaN   \n",
       "14362             NaN                NaN   \n",
       "21576             NaN                NaN   \n",
       "\n",
       "title  Beauty: A Retelling of the Story of Beauty and the Beast  \\\n",
       "user                                                              \n",
       "1485                                                        NaN   \n",
       "5769                                                        NaN   \n",
       "7500                                                        NaN   \n",
       "14362                                                       NaN   \n",
       "21576                                                       NaN   \n",
       "\n",
       "title  Black Lightning  Breath of Magic  Carlucci's Edge  Cat's Eye  \\\n",
       "user                                                                  \n",
       "1485               NaN              NaN              NaN        NaN   \n",
       "5769               NaN              0.0              NaN        NaN   \n",
       "7500               NaN              NaN              NaN        NaN   \n",
       "14362              NaN              NaN              NaN        NaN   \n",
       "21576              NaN              NaN              NaN        0.0   \n",
       "\n",
       "title  Clan Novel: Assamite  ...  The Handmaid's Tale  \\\n",
       "user                         ...                        \n",
       "1485                    NaN  ...                  NaN   \n",
       "5769                    NaN  ...                  NaN   \n",
       "7500                    NaN  ...                  NaN   \n",
       "14362                   NaN  ...                  NaN   \n",
       "21576                   NaN  ...                  NaN   \n",
       "\n",
       "title  The MacKade Brothers: Devin and Shane (Silhouette Single Title)  \\\n",
       "user                                                                     \n",
       "1485                                                               NaN   \n",
       "5769                                                               NaN   \n",
       "7500                                                               NaN   \n",
       "14362                                                              NaN   \n",
       "21576                                                              NaN   \n",
       "\n",
       "title  The Nectar of Instruction  \\\n",
       "user                               \n",
       "1485                         NaN   \n",
       "5769                         NaN   \n",
       "7500                         NaN   \n",
       "14362                        NaN   \n",
       "21576                        NaN   \n",
       "\n",
       "title  The Perfect Neighbor (The Macgregors) (The Macgregors : Special Edition Series, No 1232)  \\\n",
       "user                                                                                              \n",
       "1485                                                                                        NaN   \n",
       "5769                                                                                        NaN   \n",
       "7500                                                                                        NaN   \n",
       "14362                                                                                       NaN   \n",
       "21576                                                                                       NaN   \n",
       "\n",
       "title  The Twits  \\\n",
       "user               \n",
       "1485         NaN   \n",
       "5769         NaN   \n",
       "7500         NaN   \n",
       "14362        NaN   \n",
       "21576        NaN   \n",
       "\n",
       "title  The Winter of Our Discontent (Penguin Twentieth-Century Classics)  \\\n",
       "user                                                                       \n",
       "1485                                                                 NaN   \n",
       "5769                                                                 NaN   \n",
       "7500                                                                 NaN   \n",
       "14362                                                                NaN   \n",
       "21576                                                                NaN   \n",
       "\n",
       "title  Thurston House  Turbulence  Vida de Una Geisha  Violets Are Blue  \n",
       "user                                                                     \n",
       "1485              NaN         NaN                 NaN               NaN  \n",
       "5769              NaN         NaN                 NaN               NaN  \n",
       "7500              NaN         NaN                 NaN               0.7  \n",
       "14362             NaN         NaN                 NaN               NaN  \n",
       "21576             NaN         NaN                 NaN               NaN  \n",
       "\n",
       "[5 rows x 50 columns]"
      ]
     },
     "execution_count": 12,
     "metadata": {},
     "output_type": "execute_result"
    }
   ],
   "source": [
    "sdf = df.sample(50)\n",
    "pd.crosstab(sdf.user, sdf.title, values=sdf.rating, aggfunc='max').head()\n"
   ]
  },
  {
   "attachments": {},
   "cell_type": "markdown",
   "metadata": {
    "execution": {
     "iopub.execute_input": "2023-06-10T20:09:55.573213Z",
     "iopub.status.busy": "2023-06-10T20:09:55.572815Z",
     "iopub.status.idle": "2023-06-10T20:09:55.580468Z",
     "shell.execute_reply": "2023-06-10T20:09:55.579111Z",
     "shell.execute_reply.started": "2023-06-10T20:09:55.573181Z"
    }
   },
   "source": [
    "# Creating an embedding matrix\n",
    "\n",
    "Since we have a very large number of categorical input features, we need some way of compressing this information. We'll create two __matrices of latent factors__  -one for the users and one for the books. Each of these matrices will have a vector containing factors,  where each factor represents something about books, or something about users. \n",
    "\n",
    "For example - we'll begin by creating 5 x 3058 matrix for the users, and a 5 * 4473 matrix for the books. conceptually you can imagine these slotting in to the right of the __user__ column, and below the __title__ colum in such a way that each book, and each user, will have its own unique set of 5 factors. These factors will initially be random numbers, but as the model trains, they will start to encode something meaningful about users' preferences, and something about books' qualities. We won't decide what these factors mean; that will be learned by the model during training. \n",
    "\n",
    "Let's go ahead and make these matrices.\n"
   ]
  },
  {
   "cell_type": "code",
   "execution_count": 13,
   "metadata": {
    "execution": {
     "iopub.execute_input": "2023-06-27T04:46:13.642713Z",
     "iopub.status.busy": "2023-06-27T04:46:13.642359Z",
     "iopub.status.idle": "2023-06-27T04:46:13.660444Z",
     "shell.execute_reply": "2023-06-27T04:46:13.659388Z",
     "shell.execute_reply.started": "2023-06-27T04:46:13.642682Z"
    },
    "trusted": true
   },
   "outputs": [
    {
     "data": {
      "text/plain": [
       "(torch.Size([40736, 5]), torch.Size([116040, 5]))"
      ]
     },
     "execution_count": 13,
     "metadata": {},
     "output_type": "execute_result"
    }
   ],
   "source": [
    "n_users = len(dls.classes['user'])\n",
    "n_titles = len(dls.classes['title'])\n",
    "n_factors = 5\n",
    "\n",
    "user_factors = torch.randn(n_users, n_factors)\n",
    "title_factors = torch.randn(n_titles, n_factors)\n",
    "user_factors.size(), title_factors.size()"
   ]
  },
  {
   "attachments": {},
   "cell_type": "markdown",
   "metadata": {},
   "source": [
    "# Looking at the features\n",
    "\n",
    "To make a forward pass through the model, we'll take the __dot product__ of some user factors with some title factors. If the vectors are similar, then it means that the user's tastes are matched to the book's qualities. Let's take a look at this more closely:\n",
    "\n",
    "Suppose user A has the factors (0, 1, 0.5, 0, -1) , \n",
    "\n",
    "and book N has the factors    (0, 1, 0.6, 1, -1)\n",
    "\n",
    "Since most of these factors are similar, except at index 3, we'll get an output which is more positive, indicating that the book is a good match for the user. If the factors were all opposite to one-another, we'd get a more negative output; perhaps not such a good match. The factors in this case might encode for something like this: \n",
    "\n",
    "- 'written in english'\n",
    "\n",
    "- 'short book', \n",
    "\n",
    "- 'written in the past 20 years', \n",
    "\n",
    "- 'written by terry pratchett', \n",
    "\n",
    "- 'contains dragons'\n",
    "\n",
    "But the factors are learned automatically as the model trains.\n",
    "\n",
    "# Dot Product, Vectors and Scalars\n",
    "https://www.mathsisfun.com/algebra/vectors-dot-product.html\n",
    "On this site you can get a quick refresher on vectors, scalars, and dot procucts. \n",
    "\n",
    "In short, if you imagine two vectors on a plane, the dot product returns a scalar value describing how much these vectors overlap, or more accurately, what's the magnitude of the component shared by both the vectors. \n",
    "\n",
    "Let's try this out. \n"
   ]
  },
  {
   "cell_type": "code",
   "execution_count": 14,
   "metadata": {
    "execution": {
     "iopub.execute_input": "2023-06-27T04:46:13.662424Z",
     "iopub.status.busy": "2023-06-27T04:46:13.662082Z",
     "iopub.status.idle": "2023-06-27T04:46:13.667306Z",
     "shell.execute_reply": "2023-06-27T04:46:13.666215Z",
     "shell.execute_reply.started": "2023-06-27T04:46:13.662393Z"
    },
    "trusted": true
   },
   "outputs": [],
   "source": [
    "vector_a = torch.tensor([1, 0, 0.5])\n",
    "vector_b = torch.tensor([1, 1, 0.1])"
   ]
  },
  {
   "attachments": {},
   "cell_type": "markdown",
   "metadata": {},
   "source": [
    "The __dot product__ is just the sum of the products of all the features like so: \n",
    "\n",
    "`a1b1 + a2b2 + a3b3`. \n",
    "\n",
    "So the dot product of these vectors would be \n",
    "\n",
    "\n",
    "`1 + 0 + 0.05 = 1.05`\n",
    "\n",
    "### This is just the sum of an elementwise multiplication in python, which is also identical to a matrix multiplaction of two vectors. "
   ]
  },
  {
   "cell_type": "code",
   "execution_count": 15,
   "metadata": {
    "execution": {
     "iopub.execute_input": "2023-06-27T04:46:13.669699Z",
     "iopub.status.busy": "2023-06-27T04:46:13.669005Z",
     "iopub.status.idle": "2023-06-27T04:46:13.681879Z",
     "shell.execute_reply": "2023-06-27T04:46:13.680587Z",
     "shell.execute_reply.started": "2023-06-27T04:46:13.669666Z"
    },
    "trusted": true
   },
   "outputs": [
    {
     "data": {
      "text/plain": [
       "tensor(1.0500)"
      ]
     },
     "execution_count": 15,
     "metadata": {},
     "output_type": "execute_result"
    }
   ],
   "source": [
    "# Sum of elementwise multiplication\n",
    "(vector_a*vector_b).sum()"
   ]
  },
  {
   "cell_type": "code",
   "execution_count": 16,
   "metadata": {
    "execution": {
     "iopub.execute_input": "2023-06-27T04:46:13.685224Z",
     "iopub.status.busy": "2023-06-27T04:46:13.684908Z",
     "iopub.status.idle": "2023-06-27T04:46:13.729787Z",
     "shell.execute_reply": "2023-06-27T04:46:13.728938Z",
     "shell.execute_reply.started": "2023-06-27T04:46:13.685194Z"
    },
    "trusted": true
   },
   "outputs": [
    {
     "data": {
      "text/plain": [
       "tensor(1.0500)"
      ]
     },
     "execution_count": 16,
     "metadata": {},
     "output_type": "execute_result"
    }
   ],
   "source": [
    "# Matrix multiply\n",
    "vector_a@vector_b"
   ]
  },
  {
   "attachments": {},
   "cell_type": "markdown",
   "metadata": {},
   "source": [
    "# What's an embedding layer?\n",
    "\n",
    "\n",
    "The Embedding class here creates an embedding matrix, just like we did above. It also provides a way of indexing into the matrix to get the vector at a specific index. \n",
    "\n",
    "The input x in this case is one batch of user IDs and  book titles, with the shape bs x 2. When we pass the input to the embedding layer, we'll get back the vectors containing the factors for that batch of inputs. \n",
    "\n",
    "The matrix multiply way of doing this is to one-hot encode the input indices in a one dimensional matrix (or 2d vector, however you want to think of it), then do a matrix multiply of this one hot encoded vector with the embedding matrix. The result would be a 16x5 matrix of feature vectors- one for each of the inputs in the minibatch. An embedding layer provides a way to get the embedding vectors out of the embedding matrix using indexes, in a way which looks just like matrix multiplication, without the need to build the one-hot encoded matrix with all those redundant zeros. \n",
    "\n",
    "__There may be some relation between an embedding for a particular book, and an embedding for a particular user, which correlates with the rating that user gave to that book. When we train this model, we're trying to learn the set of parameters for the embeddings for each book and user, such that the dot product of the book embeddings and the user embeddings is close to the actual ratings a user gave for a particular book__.\n",
    "\n",
    "Our model's forward method needs to make rating predictions by doing an elementwise multiplication of the user embedding and the book embedding, then sum over this to predict an overall rating. This predicted rating will be compared with the actual rating the user gave the book, then the initially random weights in the embedding matrix will be updated using stochastic gradient descent to create a better embedding. \n",
    "\n",
    "Through this process the embedding will come to represent some real world features about the data, which relate to the ratings which people gave to books. These features might not be named or explicitly stated by the user, but rather they'll be discovered by the network as its parameters automatically adjust to minimise the output of the loss function. "
   ]
  },
  {
   "attachments": {},
   "cell_type": "markdown",
   "metadata": {},
   "source": [
    "# Making a PyTorch dot product model"
   ]
  },
  {
   "cell_type": "code",
   "execution_count": 17,
   "metadata": {
    "execution": {
     "iopub.execute_input": "2023-06-27T04:46:13.731424Z",
     "iopub.status.busy": "2023-06-27T04:46:13.731097Z",
     "iopub.status.idle": "2023-06-27T04:46:13.738751Z",
     "shell.execute_reply": "2023-06-27T04:46:13.737411Z",
     "shell.execute_reply.started": "2023-06-27T04:46:13.731392Z"
    },
    "trusted": true
   },
   "outputs": [],
   "source": [
    "class DotProduct(Module):\n",
    "    def __init__(self, n_users, n_titles, n_factors):\n",
    "        self.user_factors = Embedding(n_users, n_factors)\n",
    "        self.title_factors = Embedding(n_titles, n_factors)\n",
    "        \n",
    "    def forward(self, x):\n",
    "        users = self.user_factors(x[:,0])\n",
    "        titles = self.title_factors(x[:,1])\n",
    "        return (users*titles).sum(dim=1)"
   ]
  },
  {
   "cell_type": "code",
   "execution_count": 18,
   "metadata": {
    "execution": {
     "iopub.execute_input": "2023-06-27T04:46:13.740943Z",
     "iopub.status.busy": "2023-06-27T04:46:13.740449Z",
     "iopub.status.idle": "2023-06-27T04:46:13.993783Z",
     "shell.execute_reply": "2023-06-27T04:46:13.992935Z",
     "shell.execute_reply.started": "2023-06-27T04:46:13.740911Z"
    },
    "trusted": true
   },
   "outputs": [
    {
     "data": {
      "text/plain": [
       "(torch.Size([64, 2]), torch.Size([64, 1]))"
      ]
     },
     "execution_count": 18,
     "metadata": {},
     "output_type": "execute_result"
    }
   ],
   "source": [
    "x,y = dls.one_batch()\n",
    "x.shape, y.shape"
   ]
  },
  {
   "cell_type": "code",
   "execution_count": 19,
   "metadata": {
    "execution": {
     "iopub.execute_input": "2023-06-27T04:46:13.995423Z",
     "iopub.status.busy": "2023-06-27T04:46:13.995000Z",
     "iopub.status.idle": "2023-06-27T04:46:14.184354Z",
     "shell.execute_reply": "2023-06-27T04:46:14.183397Z",
     "shell.execute_reply.started": "2023-06-27T04:46:13.995391Z"
    },
    "trusted": true
   },
   "outputs": [],
   "source": [
    "model = DotProduct(n_users, n_titles, n_factors=50)\n",
    "learn = Learner(dls, model, loss_func=MSELossFlat())"
   ]
  },
  {
   "cell_type": "code",
   "execution_count": 20,
   "metadata": {
    "execution": {
     "iopub.execute_input": "2023-06-27T04:46:14.186332Z",
     "iopub.status.busy": "2023-06-27T04:46:14.185920Z",
     "iopub.status.idle": "2023-06-27T04:48:34.569028Z",
     "shell.execute_reply": "2023-06-27T04:48:34.567918Z",
     "shell.execute_reply.started": "2023-06-27T04:46:14.186297Z"
    },
    "trusted": true
   },
   "outputs": [
    {
     "data": {
      "text/html": [
       "\n",
       "<style>\n",
       "    /* Turns off some styling */\n",
       "    progress {\n",
       "        /* gets rid of default border in Firefox and Opera. */\n",
       "        border: none;\n",
       "        /* Needs to be in here for Safari polyfill so background images work as expected. */\n",
       "        background-size: auto;\n",
       "    }\n",
       "    progress:not([value]), progress:not([value])::-webkit-progress-bar {\n",
       "        background: repeating-linear-gradient(45deg, #7e7e7e, #7e7e7e 10px, #5c5c5c 10px, #5c5c5c 20px);\n",
       "    }\n",
       "    .progress-bar-interrupted, .progress-bar-interrupted::-webkit-progress-bar {\n",
       "        background: #F44336;\n",
       "    }\n",
       "</style>\n"
      ],
      "text/plain": [
       "<IPython.core.display.HTML object>"
      ]
     },
     "metadata": {},
     "output_type": "display_data"
    },
    {
     "data": {
      "text/html": [
       "<table border=\"1\" class=\"dataframe\">\n",
       "  <thead>\n",
       "    <tr style=\"text-align: left;\">\n",
       "      <th>epoch</th>\n",
       "      <th>train_loss</th>\n",
       "      <th>valid_loss</th>\n",
       "      <th>time</th>\n",
       "    </tr>\n",
       "  </thead>\n",
       "  <tbody>\n",
       "    <tr>\n",
       "      <td>0</td>\n",
       "      <td>0.238515</td>\n",
       "      <td>0.227373</td>\n",
       "      <td>00:27</td>\n",
       "    </tr>\n",
       "    <tr>\n",
       "      <td>1</td>\n",
       "      <td>0.183773</td>\n",
       "      <td>0.226952</td>\n",
       "      <td>00:27</td>\n",
       "    </tr>\n",
       "    <tr>\n",
       "      <td>2</td>\n",
       "      <td>0.089674</td>\n",
       "      <td>0.227779</td>\n",
       "      <td>00:27</td>\n",
       "    </tr>\n",
       "    <tr>\n",
       "      <td>3</td>\n",
       "      <td>0.047348</td>\n",
       "      <td>0.224438</td>\n",
       "      <td>00:27</td>\n",
       "    </tr>\n",
       "    <tr>\n",
       "      <td>4</td>\n",
       "      <td>0.023283</td>\n",
       "      <td>0.224684</td>\n",
       "      <td>00:27</td>\n",
       "    </tr>\n",
       "  </tbody>\n",
       "</table>"
      ],
      "text/plain": [
       "<IPython.core.display.HTML object>"
      ]
     },
     "metadata": {},
     "output_type": "display_data"
    }
   ],
   "source": [
    "learn.fit_one_cycle(5, 5e-3)"
   ]
  },
  {
   "attachments": {},
   "cell_type": "markdown",
   "metadata": {},
   "source": [
    "# Making the training process more efficient\n",
    "### Training on the entire dataset took 3 mins per epoch.\n",
    "When I first ran this model it took 15 mins for 5 epochs. \n",
    "The model was still converging after 5 epochs but this is too slow for experimentation - we should find a sample size which allows some convergence, but which we don't have to wait forever to train. \n",
    "\n",
    "For the next run, I took a random sample of 300,000 users from the database. This reduced the training time but reduced convergence - the loss measured on the validation set remained high. We need a way of reducing the size of the dataset but retaining most of the data. \n",
    "\n",
    "## Sample only popular books and users with lots of entries. \n",
    "Deliberately selecting from the most read titles, and the most active readers could be a way of getting the information density up a little. This is definitely a design decision which should be scrutinized, since it biases the system towards more popular items, but it could be a good way to jumpstart training. \n",
    "\n",
    "Plus it doesn't make a lot of sense to be training a collaborative filtering model on users who have read only one book: there wouldn't be any second item to lookup and recommend for another user who has read the same book. "
   ]
  },
  {
   "cell_type": "code",
   "execution_count": 21,
   "metadata": {
    "execution": {
     "iopub.execute_input": "2023-06-27T04:48:34.571508Z",
     "iopub.status.busy": "2023-06-27T04:48:34.570831Z",
     "iopub.status.idle": "2023-06-27T04:48:35.227261Z",
     "shell.execute_reply": "2023-06-27T04:48:35.226297Z",
     "shell.execute_reply.started": "2023-06-27T04:48:34.571473Z"
    },
    "trusted": true
   },
   "outputs": [],
   "source": [
    "book_count = len(set(ratings.title))\n",
    "popular_books = ratings.title.value_counts()[:1000].keys()\n",
    "\n",
    "reader_count = len(set(ratings.user))\n",
    "avid_readers = ratings.user.value_counts()[:1000].keys()"
   ]
  },
  {
   "cell_type": "code",
   "execution_count": 22,
   "metadata": {
    "execution": {
     "iopub.execute_input": "2023-06-27T04:48:35.228861Z",
     "iopub.status.busy": "2023-06-27T04:48:35.228509Z",
     "iopub.status.idle": "2023-06-27T04:48:35.239481Z",
     "shell.execute_reply": "2023-06-27T04:48:35.238021Z",
     "shell.execute_reply.started": "2023-06-27T04:48:35.228826Z"
    },
    "trusted": true
   },
   "outputs": [
    {
     "data": {
      "text/plain": [
       "1031136"
      ]
     },
     "execution_count": 22,
     "metadata": {},
     "output_type": "execute_result"
    }
   ],
   "source": [
    "len(ratings)"
   ]
  },
  {
   "attachments": {},
   "cell_type": "markdown",
   "metadata": {},
   "source": [
    "Overwriting the variable __dense_df__ with this new selection"
   ]
  },
  {
   "cell_type": "code",
   "execution_count": 23,
   "metadata": {
    "execution": {
     "iopub.execute_input": "2023-06-27T04:48:35.241668Z",
     "iopub.status.busy": "2023-06-27T04:48:35.241239Z",
     "iopub.status.idle": "2023-06-27T04:48:35.324711Z",
     "shell.execute_reply": "2023-06-27T04:48:35.323668Z",
     "shell.execute_reply.started": "2023-06-27T04:48:35.241615Z"
    },
    "trusted": true
   },
   "outputs": [
    {
     "name": "stdout",
     "output_type": "stream",
     "text": [
      "76402\n"
     ]
    }
   ],
   "source": [
    "dense_df = ratings[ratings.title.isin(popular_books)]\n",
    "dense_df = (dense_df[dense_df.user.isin(avid_readers)])\n",
    "print(len(dense_df))"
   ]
  },
  {
   "attachments": {},
   "cell_type": "markdown",
   "metadata": {},
   "source": [
    "Now we've got the number of samples in the database down to 76402, and it only contains the top 1000 readers and the top 1000 books. \n",
    "\n",
    "##  Make a new dataloaders object to draw training and validation samples from this new dataframe. "
   ]
  },
  {
   "cell_type": "code",
   "execution_count": 24,
   "metadata": {
    "execution": {
     "iopub.execute_input": "2023-06-27T04:48:35.326306Z",
     "iopub.status.busy": "2023-06-27T04:48:35.325939Z",
     "iopub.status.idle": "2023-06-27T04:48:35.391465Z",
     "shell.execute_reply": "2023-06-27T04:48:35.390591Z",
     "shell.execute_reply.started": "2023-06-27T04:48:35.326274Z"
    },
    "trusted": true
   },
   "outputs": [],
   "source": [
    "dense_dls = CollabDataLoaders.from_df(dense_df, item_name='title', bs=64)\n",
    "n_users = len(dense_dls.classes['user'])\n",
    "n_titles = len(dense_dls.classes['title'])"
   ]
  },
  {
   "cell_type": "code",
   "execution_count": 25,
   "metadata": {
    "execution": {
     "iopub.execute_input": "2023-06-27T04:48:35.394594Z",
     "iopub.status.busy": "2023-06-27T04:48:35.392613Z",
     "iopub.status.idle": "2023-06-27T04:48:35.403481Z",
     "shell.execute_reply": "2023-06-27T04:48:35.402321Z",
     "shell.execute_reply.started": "2023-06-27T04:48:35.394560Z"
    },
    "trusted": true
   },
   "outputs": [],
   "source": [
    "model = DotProduct(n_users, n_titles, n_factors=50)"
   ]
  },
  {
   "attachments": {},
   "cell_type": "markdown",
   "metadata": {},
   "source": [
    "## Let's see how the model trains now"
   ]
  },
  {
   "cell_type": "code",
   "execution_count": 26,
   "metadata": {
    "execution": {
     "iopub.execute_input": "2023-06-27T04:48:35.405378Z",
     "iopub.status.busy": "2023-06-27T04:48:35.405020Z",
     "iopub.status.idle": "2023-06-27T04:49:07.338062Z",
     "shell.execute_reply": "2023-06-27T04:49:07.337027Z",
     "shell.execute_reply.started": "2023-06-27T04:48:35.405346Z"
    },
    "trusted": true
   },
   "outputs": [
    {
     "data": {
      "text/html": [
       "\n",
       "<style>\n",
       "    /* Turns off some styling */\n",
       "    progress {\n",
       "        /* gets rid of default border in Firefox and Opera. */\n",
       "        border: none;\n",
       "        /* Needs to be in here for Safari polyfill so background images work as expected. */\n",
       "        background-size: auto;\n",
       "    }\n",
       "    progress:not([value]), progress:not([value])::-webkit-progress-bar {\n",
       "        background: repeating-linear-gradient(45deg, #7e7e7e, #7e7e7e 10px, #5c5c5c 10px, #5c5c5c 20px);\n",
       "    }\n",
       "    .progress-bar-interrupted, .progress-bar-interrupted::-webkit-progress-bar {\n",
       "        background: #F44336;\n",
       "    }\n",
       "</style>\n"
      ],
      "text/plain": [
       "<IPython.core.display.HTML object>"
      ]
     },
     "metadata": {},
     "output_type": "display_data"
    },
    {
     "data": {
      "text/html": [
       "<table border=\"1\" class=\"dataframe\">\n",
       "  <thead>\n",
       "    <tr style=\"text-align: left;\">\n",
       "      <th>epoch</th>\n",
       "      <th>train_loss</th>\n",
       "      <th>valid_loss</th>\n",
       "      <th>time</th>\n",
       "    </tr>\n",
       "  </thead>\n",
       "  <tbody>\n",
       "    <tr>\n",
       "      <td>0</td>\n",
       "      <td>0.169560</td>\n",
       "      <td>0.172441</td>\n",
       "      <td>00:06</td>\n",
       "    </tr>\n",
       "    <tr>\n",
       "      <td>1</td>\n",
       "      <td>0.119379</td>\n",
       "      <td>0.122923</td>\n",
       "      <td>00:06</td>\n",
       "    </tr>\n",
       "    <tr>\n",
       "      <td>2</td>\n",
       "      <td>0.103940</td>\n",
       "      <td>0.114699</td>\n",
       "      <td>00:06</td>\n",
       "    </tr>\n",
       "    <tr>\n",
       "      <td>3</td>\n",
       "      <td>0.098195</td>\n",
       "      <td>0.113169</td>\n",
       "      <td>00:06</td>\n",
       "    </tr>\n",
       "    <tr>\n",
       "      <td>4</td>\n",
       "      <td>0.099816</td>\n",
       "      <td>0.113051</td>\n",
       "      <td>00:06</td>\n",
       "    </tr>\n",
       "  </tbody>\n",
       "</table>"
      ],
      "text/plain": [
       "<IPython.core.display.HTML object>"
      ]
     },
     "metadata": {},
     "output_type": "display_data"
    }
   ],
   "source": [
    "learn = Learner(dense_dls, model, loss_func=MSELossFlat())\n",
    "learn.fit_one_cycle(5, 1e-3)"
   ]
  },
  {
   "attachments": {},
   "cell_type": "markdown",
   "metadata": {},
   "source": [
    "### Great - the training only takes 5s per epoch, and we're still seeing convergence after 5 epochs. Let's try to improve from here"
   ]
  },
  {
   "attachments": {},
   "cell_type": "markdown",
   "metadata": {},
   "source": [
    "# Adding intentional Bias\n",
    "So far our model only takes the dot procuct of two vectors then adds up these contributions. To improve the model we should add bias. This will allow us to represent the overall bias of a particular book or user. For example, a book might be extremely short and extremely sci-fi, but also be generally terrible. Even for a reader who also loves short sci-fi books, if the book is generally terrible they probably won't enjoy it. Conversely there might be a book which is very sci-fi but also so good that even non-sci-fi fans enjoy it. We can represent this overall bias of the book by adding or subtracting a scalar to our embedding vector after the elementwise multiplication operation. \n",
    "\n",
    "The bias in for the user embedding factors lets us represent users who on average, give a higher or lower rating than other users across the board. \n",
    "\n",
    "Let's give this a go below"
   ]
  },
  {
   "cell_type": "code",
   "execution_count": 46,
   "metadata": {
    "execution": {
     "iopub.execute_input": "2023-06-27T05:08:21.401931Z",
     "iopub.status.busy": "2023-06-27T05:08:21.401513Z",
     "iopub.status.idle": "2023-06-27T05:08:21.414101Z",
     "shell.execute_reply": "2023-06-27T05:08:21.413114Z",
     "shell.execute_reply.started": "2023-06-27T05:08:21.401897Z"
    },
    "trusted": true
   },
   "outputs": [],
   "source": [
    "class DotProductBias(Module):\n",
    "    def __init__(self, n_users, n_titles, n_factors):\n",
    "        self.user_factors = Embedding(n_users, n_factors)\n",
    "        self.user_bias = Embedding(n_users, 1)\n",
    "        self.title_factors = Embedding(n_titles, n_factors)\n",
    "        self.title_bias = Embedding(n_titles, 1)\n",
    "        self.y_range = y_range\n",
    "        \n",
    "    def forward(self, x):\n",
    "        users = self.user_factors(x[:,0])\n",
    "        titles = self.title_factors(x[:,1])\n",
    "        result = (users*titles).sum(dim=1, keepdim=True)\n",
    "        result += self.user_bias(x[:,0]) + self.title_bias(x[:,1])\n",
    "        return(result) "
   ]
  },
  {
   "attachments": {},
   "cell_type": "markdown",
   "metadata": {},
   "source": [
    "Here we're just adding another embedding to represent the bias for each user and each book. This scalar value is added to the prediction for a user and book combination. \n",
    "\n",
    "Initially I added added a sigmoid to the output to keep the predictions between 0 and 1.1 Using an upper limit of 1.1 allows prediction of the number 1, which would be impossible to achieve with sigmoid otherwise, since the [sigmoid function](https://en.wikipedia.org/wiki/Sigmoid_function) scales all inputs from -inf to inf to lie between 0 and 1.\n",
    "\n",
    "In practice what happened was that all the predicted ratings were between ~0.4 and ~0.5. Removing the sigmoid on the outputs fixed this and all predicted ratings now fall between 0 and 1, perhaps because I've pre-scaled the ratings to lie within this range. \n",
    "\n",
    "### Weight decay\n",
    "__L2_Regularization__ also called weight decay, is also used here. L2 regularization penalizes large weights in the model by adding to the loss function the sum of all the weights squared. This helps reduce overfitting by reducing the chance of any individual weight becoming very large. This will slow down the training of the model, but it will also produce a model which generalizes better - the model will find general patterns rather than producing an overly complex and overfit function which only represents items in the training set. \n",
    "\n",
    "I have left "
   ]
  },
  {
   "cell_type": "code",
   "execution_count": 28,
   "metadata": {
    "execution": {
     "iopub.execute_input": "2023-06-27T04:49:07.355622Z",
     "iopub.status.busy": "2023-06-27T04:49:07.355344Z",
     "iopub.status.idle": "2023-06-27T04:49:45.409462Z",
     "shell.execute_reply": "2023-06-27T04:49:45.408259Z",
     "shell.execute_reply.started": "2023-06-27T04:49:07.355598Z"
    },
    "trusted": true
   },
   "outputs": [
    {
     "data": {
      "text/html": [
       "\n",
       "<style>\n",
       "    /* Turns off some styling */\n",
       "    progress {\n",
       "        /* gets rid of default border in Firefox and Opera. */\n",
       "        border: none;\n",
       "        /* Needs to be in here for Safari polyfill so background images work as expected. */\n",
       "        background-size: auto;\n",
       "    }\n",
       "    progress:not([value]), progress:not([value])::-webkit-progress-bar {\n",
       "        background: repeating-linear-gradient(45deg, #7e7e7e, #7e7e7e 10px, #5c5c5c 10px, #5c5c5c 20px);\n",
       "    }\n",
       "    .progress-bar-interrupted, .progress-bar-interrupted::-webkit-progress-bar {\n",
       "        background: #F44336;\n",
       "    }\n",
       "</style>\n"
      ],
      "text/plain": [
       "<IPython.core.display.HTML object>"
      ]
     },
     "metadata": {},
     "output_type": "display_data"
    },
    {
     "data": {
      "text/html": [
       "<table border=\"1\" class=\"dataframe\">\n",
       "  <thead>\n",
       "    <tr style=\"text-align: left;\">\n",
       "      <th>epoch</th>\n",
       "      <th>train_loss</th>\n",
       "      <th>valid_loss</th>\n",
       "      <th>time</th>\n",
       "    </tr>\n",
       "  </thead>\n",
       "  <tbody>\n",
       "    <tr>\n",
       "      <td>0</td>\n",
       "      <td>0.141313</td>\n",
       "      <td>0.143934</td>\n",
       "      <td>00:07</td>\n",
       "    </tr>\n",
       "    <tr>\n",
       "      <td>1</td>\n",
       "      <td>0.115564</td>\n",
       "      <td>0.117711</td>\n",
       "      <td>00:07</td>\n",
       "    </tr>\n",
       "    <tr>\n",
       "      <td>2</td>\n",
       "      <td>0.099428</td>\n",
       "      <td>0.113122</td>\n",
       "      <td>00:07</td>\n",
       "    </tr>\n",
       "    <tr>\n",
       "      <td>3</td>\n",
       "      <td>0.087854</td>\n",
       "      <td>0.112196</td>\n",
       "      <td>00:07</td>\n",
       "    </tr>\n",
       "    <tr>\n",
       "      <td>4</td>\n",
       "      <td>0.087845</td>\n",
       "      <td>0.112063</td>\n",
       "      <td>00:07</td>\n",
       "    </tr>\n",
       "  </tbody>\n",
       "</table>"
      ],
      "text/plain": [
       "<IPython.core.display.HTML object>"
      ]
     },
     "metadata": {},
     "output_type": "display_data"
    }
   ],
   "source": [
    "model = DotProductBias(n_users, n_titles, n_factors=50)\n",
    "learn = Learner(dense_dls, model, loss_func=MSELossFlat()).to_fp16()\n",
    "learn.fit_one_cycle(5, 1e-3, wd=0.1)"
   ]
  },
  {
   "attachments": {},
   "cell_type": "markdown",
   "metadata": {},
   "source": [
    "Now that we have the model trained, we can get predictions for any pairings of users an books. The model outputs will be the rating which the model predicts for that user - book combo. Here's a demonstration which uses one batch of data, so it's just a random pairing of users with books."
   ]
  },
  {
   "cell_type": "code",
   "execution_count": 29,
   "metadata": {
    "execution": {
     "iopub.execute_input": "2023-06-27T04:49:45.411769Z",
     "iopub.status.busy": "2023-06-27T04:49:45.411266Z",
     "iopub.status.idle": "2023-06-27T04:49:45.483642Z",
     "shell.execute_reply": "2023-06-27T04:49:45.482689Z",
     "shell.execute_reply.started": "2023-06-27T04:49:45.411729Z"
    },
    "trusted": true
   },
   "outputs": [],
   "source": [
    "batch = dense_dls.one_batch()[0].to('cuda')"
   ]
  },
  {
   "attachments": {},
   "cell_type": "markdown",
   "metadata": {},
   "source": [
    "`get_device` to check that the tensor is on the GPU (-1 = cpum 0=cuda:0)"
   ]
  },
  {
   "cell_type": "code",
   "execution_count": 30,
   "metadata": {
    "execution": {
     "iopub.execute_input": "2023-06-27T04:49:45.485377Z",
     "iopub.status.busy": "2023-06-27T04:49:45.484879Z",
     "iopub.status.idle": "2023-06-27T04:49:45.493193Z",
     "shell.execute_reply": "2023-06-27T04:49:45.491951Z",
     "shell.execute_reply.started": "2023-06-27T04:49:45.485333Z"
    },
    "trusted": true
   },
   "outputs": [
    {
     "data": {
      "text/plain": [
       "0"
      ]
     },
     "execution_count": 30,
     "metadata": {},
     "output_type": "execute_result"
    }
   ],
   "source": [
    "batch.get_device()"
   ]
  },
  {
   "attachments": {},
   "cell_type": "markdown",
   "metadata": {},
   "source": [
    "passing a batch of inputs (user/title pairs) gives us an output of predictions for that pairing."
   ]
  },
  {
   "cell_type": "code",
   "execution_count": 31,
   "metadata": {
    "execution": {
     "iopub.execute_input": "2023-06-27T04:49:45.495963Z",
     "iopub.status.busy": "2023-06-27T04:49:45.495327Z",
     "iopub.status.idle": "2023-06-27T04:49:45.520861Z",
     "shell.execute_reply": "2023-06-27T04:49:45.520039Z",
     "shell.execute_reply.started": "2023-06-27T04:49:45.495755Z"
    },
    "trusted": true
   },
   "outputs": [
    {
     "data": {
      "text/plain": [
       "tensor([[ 0.2103],\n",
       "        [ 0.1679],\n",
       "        [ 0.0168],\n",
       "        [ 0.0581],\n",
       "        [ 0.3176],\n",
       "        [ 0.2288],\n",
       "        [ 0.2315],\n",
       "        [ 0.2790],\n",
       "        [ 0.0960],\n",
       "        [-0.0118]], device='cuda:0', grad_fn=<SliceBackward0>)"
      ]
     },
     "execution_count": 31,
     "metadata": {},
     "output_type": "execute_result"
    }
   ],
   "source": [
    "model(batch)[:10]"
   ]
  },
  {
   "attachments": {},
   "cell_type": "markdown",
   "metadata": {},
   "source": [
    "# looking at the factors for a batch of users\n"
   ]
  },
  {
   "attachments": {},
   "cell_type": "markdown",
   "metadata": {},
   "source": [
    "Here we can see the indices of a batch of users. Each one of these users has a corresponding set of factors which are accessed by passing these indices to the Embedding instance called `user_factors`"
   ]
  },
  {
   "cell_type": "code",
   "execution_count": 32,
   "metadata": {
    "execution": {
     "iopub.execute_input": "2023-06-27T04:49:45.522608Z",
     "iopub.status.busy": "2023-06-27T04:49:45.522249Z",
     "iopub.status.idle": "2023-06-27T04:49:45.532117Z",
     "shell.execute_reply": "2023-06-27T04:49:45.531021Z",
     "shell.execute_reply.started": "2023-06-27T04:49:45.522575Z"
    },
    "trusted": true
   },
   "outputs": [
    {
     "data": {
      "text/plain": [
       "tensor([150, 174, 842, 449, 281, 692, 974, 600, 582, 494,  91, 194, 332, 361,\n",
       "        485, 657, 299, 802, 675, 378, 680, 465, 858, 541, 567, 879, 506, 817,\n",
       "        288, 950, 968, 581, 827, 174, 144, 381,  28, 566, 202, 897, 956, 838,\n",
       "        380, 672, 981, 257, 714, 953, 343, 846, 447, 842, 701, 643, 343, 384,\n",
       "        305, 632, 975,  48, 436, 630, 836, 583], device='cuda:0')"
      ]
     },
     "execution_count": 32,
     "metadata": {},
     "output_type": "execute_result"
    }
   ],
   "source": [
    "batch[:,0]"
   ]
  },
  {
   "attachments": {},
   "cell_type": "markdown",
   "metadata": {},
   "source": [
    "## Thinking about latent factors as components of a vector in an n-dimensional feature space\n",
    "Here are the factors for each of the users in the batch:"
   ]
  },
  {
   "cell_type": "code",
   "execution_count": 33,
   "metadata": {
    "execution": {
     "iopub.execute_input": "2023-06-27T04:49:45.534971Z",
     "iopub.status.busy": "2023-06-27T04:49:45.534464Z",
     "iopub.status.idle": "2023-06-27T04:49:45.548702Z",
     "shell.execute_reply": "2023-06-27T04:49:45.547754Z",
     "shell.execute_reply.started": "2023-06-27T04:49:45.534935Z"
    },
    "trusted": true
   },
   "outputs": [
    {
     "data": {
      "text/plain": [
       "tensor([[ 0.0206,  0.0324, -0.0256,  ..., -0.0972,  0.0861, -0.0837],\n",
       "        [ 0.0978,  0.1441,  0.0092,  ..., -0.0022, -0.0379,  0.0745],\n",
       "        [-0.0334,  0.0943,  0.0024,  ...,  0.0780, -0.0867, -0.0408],\n",
       "        ...,\n",
       "        [ 0.0150,  0.0170,  0.0297,  ...,  0.0246, -0.0477, -0.0407],\n",
       "        [-0.0341, -0.0660, -0.0711,  ...,  0.0390,  0.0392,  0.0218],\n",
       "        [ 0.0929,  0.0700,  0.0584,  ...,  0.0826, -0.0621,  0.0504]],\n",
       "       device='cuda:0', grad_fn=<EmbeddingBackward0>)"
      ]
     },
     "execution_count": 33,
     "metadata": {},
     "output_type": "execute_result"
    }
   ],
   "source": [
    "model.user_factors(batch[:,0])"
   ]
  },
  {
   "attachments": {},
   "cell_type": "markdown",
   "metadata": {},
   "source": [
    "Each of these numbers represents a learned latent factor for that user. The latent factors can can be thought of as the contribution / component to a vector in n-dimensional space, where each number is a different axis's contribution. The factors are all orthoganal to oneanother. They can represent things like taste, genre, age etc. \n",
    "\n",
    "\n",
    "For example: if user A has 3 latent factors x, y, z, and these have values 1, 0.2, -0.9, then we can imagine a vector in 3d space which extends along the x dimension by 1, along y by 0.2, and extends negatively along the z dimension by 1.\n",
    "\n",
    "Another user, or book title, might point in a very similar direction. This would mean that their factors overlap a lot and tend not to cancel out. \n",
    "\n",
    "Each of these dimensions could code for something like 'enjoys horror books', 'enjoys shorter books', younger.\n",
    "\n",
    "If there was another user who's factors were -1, 0.2, 1, we might say that they had the opposite taste for horror stories, that they have the same liking for shorter books, and that they are older. \n",
    "\n",
    "The latent factors encode for real world meaning, but the factors themselves aren't chosen by the engineer when setting up the neural network - rather they emerge from the relationships between books, users and ratings as the model trains. "
   ]
  },
  {
   "attachments": {},
   "cell_type": "markdown",
   "metadata": {},
   "source": [
    "# Using the trained model"
   ]
  },
  {
   "attachments": {},
   "cell_type": "markdown",
   "metadata": {},
   "source": [
    "## Finding the books with the highest bias"
   ]
  },
  {
   "attachments": {},
   "cell_type": "markdown",
   "metadata": {},
   "source": [
    "Here's a list of books with a high bias: they end up having a higher rating across the board, despite the specific features which were learned to describe the books. Intuitively this means that they're high quality - since they get consistently high ratings despite their genre and the users' tastes."
   ]
  },
  {
   "cell_type": "code",
   "execution_count": 34,
   "metadata": {
    "execution": {
     "iopub.execute_input": "2023-06-27T04:49:45.550472Z",
     "iopub.status.busy": "2023-06-27T04:49:45.549900Z",
     "iopub.status.idle": "2023-06-27T04:49:45.566825Z",
     "shell.execute_reply": "2023-06-27T04:49:45.566023Z",
     "shell.execute_reply.started": "2023-06-27T04:49:45.550440Z"
    },
    "trusted": true
   },
   "outputs": [
    {
     "data": {
      "text/plain": [
       "['Harry Potter and the Order of the Phoenix (Book 5)',\n",
       " 'Harry Potter and the Prisoner of Azkaban (Book 3)',\n",
       " \"Harry Potter and the Sorcerer's Stone (Book 1)\",\n",
       " 'Harry Potter and the Chamber of Secrets (Book 2)',\n",
       " 'To Kill a Mockingbird',\n",
       " '84 Charing Cross Road',\n",
       " \"Harry Potter and the Sorcerer's Stone (Harry Potter (Paperback))\",\n",
       " 'The Lovely Bones: A Novel',\n",
       " 'A Wrinkle in Time',\n",
       " 'Harry Potter and the Goblet of Fire (Book 4)',\n",
       " 'The Little Prince',\n",
       " 'The Secret Garden',\n",
       " 'The Da Vinci Code',\n",
       " 'Girl in Hyacinth Blue',\n",
       " 'Stupid White Men ...and Other Sorry Excuses for the State of the Nation!',\n",
       " 'Lord of the Flies',\n",
       " 'Dragonfly in Amber',\n",
       " \"Dude, Where's My Country?\",\n",
       " 'Fahrenheit 451',\n",
       " 'Carrie']"
      ]
     },
     "execution_count": 34,
     "metadata": {},
     "output_type": "execute_result"
    }
   ],
   "source": [
    "books_bias = learn.model.title_bias.weight.squeeze()\n",
    "idxs = books_bias.argsort(descending=True)[:20]\n",
    "[dense_dls.classes['title'][i] for i in idxs]"
   ]
  },
  {
   "attachments": {},
   "cell_type": "markdown",
   "metadata": {},
   "source": [
    "# Making recommendations for a single user. \n",
    "We know how to get rating predictions for a single batch: take the dot product of the user factors and title factors for each user/title pariring in the batch. To get predictions for a single user, we'd just need to replace all the user id's with the id for that single user. Let's try this:"
   ]
  },
  {
   "attachments": {},
   "cell_type": "markdown",
   "metadata": {},
   "source": [
    "Now that we have a trained model, to make a recommendation we need to do 2 things: \n",
    "\n",
    "1. Find out which books the user has read already. This is just so that we're not recommending books they've already read. \n",
    "\n",
    "2. Create a tensor of tuples which contain user IDs and book titles. These will be passed to the `DotProductBias` `forward()` method - which takes the dot product of a user-id book-title combination. We need to make the user IDs all the same (11676), and calculate these dot products for every book the user hasn't yet read. Once this calculation is performed, we'll have a prediction of what rating this user might give if they were to read these books. Based on these predictions we can recommend the books which get the highest predicted rating. "
   ]
  },
  {
   "attachments": {},
   "cell_type": "markdown",
   "metadata": {},
   "source": [
    "Let's take a look at the user who has read the most books: "
   ]
  },
  {
   "cell_type": "code",
   "execution_count": 35,
   "metadata": {
    "execution": {
     "iopub.execute_input": "2023-06-27T04:49:45.568565Z",
     "iopub.status.busy": "2023-06-27T04:49:45.568204Z",
     "iopub.status.idle": "2023-06-27T04:49:45.577941Z",
     "shell.execute_reply": "2023-06-27T04:49:45.576833Z",
     "shell.execute_reply.started": "2023-06-27T04:49:45.568534Z"
    },
    "trusted": true
   },
   "outputs": [
    {
     "data": {
      "text/plain": [
       "Int64Index([ 11676,  35859,  76352,  16795, 153662, 102967, 238120,  23768,\n",
       "            230522,  55492,\n",
       "            ...\n",
       "             69808,   4385, 168464, 164465, 227250,  35433, 241198, 173632,\n",
       "            133868,  72352],\n",
       "           dtype='int64', length=997)"
      ]
     },
     "execution_count": 35,
     "metadata": {},
     "output_type": "execute_result"
    }
   ],
   "source": [
    "dense_df.user.value_counts()[:1000].keys()"
   ]
  },
  {
   "attachments": {},
   "cell_type": "markdown",
   "metadata": {},
   "source": [
    "user __11676__\n",
    "\n",
    "This is the ID of the user we're trying to recommend books for. \n",
    "\n",
    "We made an embedding using a subset of the 1000 top users - so we need a way to find which index this ID is at:"
   ]
  },
  {
   "cell_type": "code",
   "execution_count": 36,
   "metadata": {
    "execution": {
     "iopub.execute_input": "2023-06-27T04:49:45.579969Z",
     "iopub.status.busy": "2023-06-27T04:49:45.579503Z",
     "iopub.status.idle": "2023-06-27T04:49:45.588173Z",
     "shell.execute_reply": "2023-06-27T04:49:45.587186Z",
     "shell.execute_reply.started": "2023-06-27T04:49:45.579937Z"
    },
    "trusted": true
   },
   "outputs": [
    {
     "data": {
      "text/plain": [
       "32"
      ]
     },
     "execution_count": 36,
     "metadata": {},
     "output_type": "execute_result"
    }
   ],
   "source": [
    "def get_index(cat, dataloader):\n",
    "    'get the index of a category from a dataloader'\n",
    "    for i, j in enumerate(dataloader):\n",
    "        if j == cat:\n",
    "            return i\n",
    "        \n",
    "get_index(11676, dense_dls.classes['user'])"
   ]
  },
  {
   "attachments": {},
   "cell_type": "markdown",
   "metadata": {},
   "source": [
    "Let's confirm that this works by tesing it on a book title:"
   ]
  },
  {
   "cell_type": "code",
   "execution_count": 37,
   "metadata": {
    "execution": {
     "iopub.execute_input": "2023-06-27T04:49:45.590501Z",
     "iopub.status.busy": "2023-06-27T04:49:45.589534Z",
     "iopub.status.idle": "2023-06-27T04:49:45.600652Z",
     "shell.execute_reply": "2023-06-27T04:49:45.599883Z",
     "shell.execute_reply.started": "2023-06-27T04:49:45.590468Z"
    },
    "trusted": true
   },
   "outputs": [
    {
     "data": {
      "text/plain": [
       "793"
      ]
     },
     "execution_count": 37,
     "metadata": {},
     "output_type": "execute_result"
    }
   ],
   "source": [
    "get_index('The Little Prince', dense_dls.classes['title'])"
   ]
  },
  {
   "attachments": {},
   "cell_type": "markdown",
   "metadata": {},
   "source": [
    "We're going to check for book recommendations for user 11676, who is at index __32__ in our dense dataloaders object."
   ]
  },
  {
   "cell_type": "code",
   "execution_count": 38,
   "metadata": {
    "execution": {
     "iopub.execute_input": "2023-06-27T04:49:45.602714Z",
     "iopub.status.busy": "2023-06-27T04:49:45.601825Z",
     "iopub.status.idle": "2023-06-27T04:49:45.619038Z",
     "shell.execute_reply": "2023-06-27T04:49:45.618078Z",
     "shell.execute_reply.started": "2023-06-27T04:49:45.602683Z"
    },
    "trusted": true
   },
   "outputs": [
    {
     "data": {
      "text/plain": [
       "tensor([[  32,    1],\n",
       "        [  32,    2],\n",
       "        [  32,    3],\n",
       "        ...,\n",
       "        [  32,  998],\n",
       "        [  32,  999],\n",
       "        [  32, 1000]], device='cuda:0')"
      ]
     },
     "execution_count": 38,
     "metadata": {},
     "output_type": "execute_result"
    }
   ],
   "source": [
    "user_index = 32\n",
    "n_books = len(dense_dls.cats['title'].unique())\n",
    "user_idxs = torch.full((n_books, 1), user_index, dtype=int).cuda()\n",
    "book_idxs = torch.linspace(1, n_books, n_books, dtype=int).unsqueeze(1).cuda()\n",
    "user_books_tensor = torch.cat((user_idxs, book_idxs), -1)\n",
    "user_books_tensor"
   ]
  },
  {
   "attachments": {},
   "cell_type": "markdown",
   "metadata": {},
   "source": [
    "Now we have a tensor pairing the user at index 32 with each of the book indices from 1 to 1000. Passing this into our model's forward() method will calculate the dot product of this user's latent factors vector with the latent factors for each book in the dataset. This dot product is the rating prediction. "
   ]
  },
  {
   "cell_type": "code",
   "execution_count": 39,
   "metadata": {
    "execution": {
     "iopub.execute_input": "2023-06-27T04:49:45.620701Z",
     "iopub.status.busy": "2023-06-27T04:49:45.620303Z",
     "iopub.status.idle": "2023-06-27T04:49:45.630818Z",
     "shell.execute_reply": "2023-06-27T04:49:45.629534Z",
     "shell.execute_reply.started": "2023-06-27T04:49:45.620669Z"
    },
    "trusted": true
   },
   "outputs": [
    {
     "data": {
      "text/plain": [
       "tensor([[307],\n",
       "        [861],\n",
       "        [872],\n",
       "        [515],\n",
       "        [293],\n",
       "        [941],\n",
       "        [597],\n",
       "        [842],\n",
       "        [ 64],\n",
       "        [308]], device='cuda:0')"
      ]
     },
     "execution_count": 39,
     "metadata": {},
     "output_type": "execute_result"
    }
   ],
   "source": [
    "recommendations = model(user_books_tensor)\n",
    "top_10 = recommendations.argsort(0, descending=True)[:10]\n",
    "top_10"
   ]
  },
  {
   "attachments": {},
   "cell_type": "markdown",
   "metadata": {},
   "source": [
    "Now we have the indices of the top 10 recommended books for this user. Finally we can look up these top indices in the dataloaders classes to get the titles. "
   ]
  },
  {
   "cell_type": "code",
   "execution_count": 40,
   "metadata": {
    "execution": {
     "iopub.execute_input": "2023-06-27T04:49:45.632757Z",
     "iopub.status.busy": "2023-06-27T04:49:45.632386Z",
     "iopub.status.idle": "2023-06-27T04:49:45.640163Z",
     "shell.execute_reply": "2023-06-27T04:49:45.638911Z",
     "shell.execute_reply.started": "2023-06-27T04:49:45.632723Z"
    },
    "trusted": true
   },
   "outputs": [
    {
     "data": {
      "text/plain": [
       "(#10) ['Harry Potter and the Chamber of Secrets (Book 2)','The Secret','The Sparrow','Possession : A Romance','Girl With a Pearl Earring','Under the Tuscan Sun','Sisterhood of the Traveling Pants','The Reader',\"Angela's Ashes (MMP) : A Memoir\",'Harry Potter and the Goblet of Fire (Book 4)']"
      ]
     },
     "execution_count": 40,
     "metadata": {},
     "output_type": "execute_result"
    }
   ],
   "source": [
    "dense_dls.classes['title'][top_10]"
   ]
  },
  {
   "attachments": {},
   "cell_type": "markdown",
   "metadata": {},
   "source": [
    "Let's take a look at all the books this user has read, ordered by rating:"
   ]
  },
  {
   "cell_type": "code",
   "execution_count": 41,
   "metadata": {
    "execution": {
     "iopub.execute_input": "2023-06-27T04:49:45.642398Z",
     "iopub.status.busy": "2023-06-27T04:49:45.641730Z",
     "iopub.status.idle": "2023-06-27T04:49:45.660819Z",
     "shell.execute_reply": "2023-06-27T04:49:45.659858Z",
     "shell.execute_reply.started": "2023-06-27T04:49:45.642325Z"
    },
    "trusted": true
   },
   "outputs": [
    {
     "data": {
      "text/html": [
       "<div>\n",
       "<style scoped>\n",
       "    .dataframe tbody tr th:only-of-type {\n",
       "        vertical-align: middle;\n",
       "    }\n",
       "\n",
       "    .dataframe tbody tr th {\n",
       "        vertical-align: top;\n",
       "    }\n",
       "\n",
       "    .dataframe thead th {\n",
       "        text-align: right;\n",
       "    }\n",
       "</style>\n",
       "<table border=\"1\" class=\"dataframe\">\n",
       "  <thead>\n",
       "    <tr style=\"text-align: right;\">\n",
       "      <th></th>\n",
       "      <th>user</th>\n",
       "      <th>title</th>\n",
       "      <th>rating</th>\n",
       "    </tr>\n",
       "  </thead>\n",
       "  <tbody>\n",
       "    <tr>\n",
       "      <th>69</th>\n",
       "      <td>11676</td>\n",
       "      <td>The Notebook</td>\n",
       "      <td>1.0</td>\n",
       "    </tr>\n",
       "    <tr>\n",
       "      <th>189</th>\n",
       "      <td>11676</td>\n",
       "      <td>A Painted House</td>\n",
       "      <td>1.0</td>\n",
       "    </tr>\n",
       "    <tr>\n",
       "      <th>12730</th>\n",
       "      <td>11676</td>\n",
       "      <td>Harry Potter and the Chamber of Secrets (Book 2)</td>\n",
       "      <td>1.0</td>\n",
       "    </tr>\n",
       "    <tr>\n",
       "      <th>13401</th>\n",
       "      <td>11676</td>\n",
       "      <td>Harry Potter and the Sorcerer's Stone (Harry Potter (Paperback))</td>\n",
       "      <td>1.0</td>\n",
       "    </tr>\n",
       "    <tr>\n",
       "      <th>19165</th>\n",
       "      <td>11676</td>\n",
       "      <td>The Sweet Potato Queens' Book of Love</td>\n",
       "      <td>1.0</td>\n",
       "    </tr>\n",
       "    <tr>\n",
       "      <th>19881</th>\n",
       "      <td>11676</td>\n",
       "      <td>Dreamcatcher</td>\n",
       "      <td>1.0</td>\n",
       "    </tr>\n",
       "    <tr>\n",
       "      <th>20480</th>\n",
       "      <td>11676</td>\n",
       "      <td>Fight Club</td>\n",
       "      <td>1.0</td>\n",
       "    </tr>\n",
       "    <tr>\n",
       "      <th>26049</th>\n",
       "      <td>11676</td>\n",
       "      <td>1st to Die: A Novel</td>\n",
       "      <td>1.0</td>\n",
       "    </tr>\n",
       "    <tr>\n",
       "      <th>26691</th>\n",
       "      <td>11676</td>\n",
       "      <td>The Hot Zone</td>\n",
       "      <td>1.0</td>\n",
       "    </tr>\n",
       "    <tr>\n",
       "      <th>28195</th>\n",
       "      <td>11676</td>\n",
       "      <td>The Girl Who Loved Tom Gordon</td>\n",
       "      <td>1.0</td>\n",
       "    </tr>\n",
       "  </tbody>\n",
       "</table>\n",
       "</div>"
      ],
      "text/plain": [
       "        user  \\\n",
       "69     11676   \n",
       "189    11676   \n",
       "12730  11676   \n",
       "13401  11676   \n",
       "19165  11676   \n",
       "19881  11676   \n",
       "20480  11676   \n",
       "26049  11676   \n",
       "26691  11676   \n",
       "28195  11676   \n",
       "\n",
       "                                                                  title  \\\n",
       "69                                                         The Notebook   \n",
       "189                                                     A Painted House   \n",
       "12730                  Harry Potter and the Chamber of Secrets (Book 2)   \n",
       "13401  Harry Potter and the Sorcerer's Stone (Harry Potter (Paperback))   \n",
       "19165                             The Sweet Potato Queens' Book of Love   \n",
       "19881                                                      Dreamcatcher   \n",
       "20480                                                        Fight Club   \n",
       "26049                                               1st to Die: A Novel   \n",
       "26691                                                      The Hot Zone   \n",
       "28195                                     The Girl Who Loved Tom Gordon   \n",
       "\n",
       "       rating  \n",
       "69        1.0  \n",
       "189       1.0  \n",
       "12730     1.0  \n",
       "13401     1.0  \n",
       "19165     1.0  \n",
       "19881     1.0  \n",
       "20480     1.0  \n",
       "26049     1.0  \n",
       "26691     1.0  \n",
       "28195     1.0  "
      ]
     },
     "execution_count": 41,
     "metadata": {},
     "output_type": "execute_result"
    }
   ],
   "source": [
    "dense_df.loc[dense_df.user==11676].loc[dense_df.rating==1][:10]"
   ]
  },
  {
   "cell_type": "code",
   "execution_count": 42,
   "metadata": {
    "execution": {
     "iopub.execute_input": "2023-06-27T04:49:45.662643Z",
     "iopub.status.busy": "2023-06-27T04:49:45.662303Z",
     "iopub.status.idle": "2023-06-27T04:49:45.671622Z",
     "shell.execute_reply": "2023-06-27T04:49:45.670529Z",
     "shell.execute_reply.started": "2023-06-27T04:49:45.662601Z"
    },
    "trusted": true
   },
   "outputs": [
    {
     "data": {
      "text/plain": [
       "(tensor(0.1127, device='cuda:0', grad_fn=<MinBackward1>),\n",
       " tensor(0.9781, device='cuda:0', grad_fn=<MaxBackward1>))"
      ]
     },
     "execution_count": 42,
     "metadata": {},
     "output_type": "execute_result"
    }
   ],
   "source": [
    "recommendations.min(), recommendations.max()\n",
    "\n"
   ]
  },
  {
   "attachments": {},
   "cell_type": "markdown",
   "metadata": {},
   "source": [
    "# Finding 'book buddies' \n",
    "\n",
    "We can use the same approach to pair users with people they're most similar to - If there are two readers in the model with the same set of latent factors as oneanother, then this means they have very similar tastes in books. I remember the Last.FM music recommendation software had a feature where you could see your 'musical neighbours' and see what music they'd been listening to. This likely uses a similar collaborative filtering system.\n",
    "\n",
    "To find two similar readers, we could use the following approach:\n",
    "\n",
    "1. pick a user\n",
    "2. apply the same process as above but instead of calculating the dot product of this user with every book, calculate the dot product of the user with every other user. If their latent factors are similar they're likely to have similar tastes in books. \n",
    "\n",
    "Let's give this  a go!"
   ]
  },
  {
   "cell_type": "code",
   "execution_count": 43,
   "metadata": {
    "execution": {
     "iopub.execute_input": "2023-06-27T04:49:45.673837Z",
     "iopub.status.busy": "2023-06-27T04:49:45.673395Z",
     "iopub.status.idle": "2023-06-27T04:49:45.694473Z",
     "shell.execute_reply": "2023-06-27T04:49:45.693660Z",
     "shell.execute_reply.started": "2023-06-27T04:49:45.673807Z"
    },
    "trusted": true
   },
   "outputs": [
    {
     "data": {
      "text/plain": [
       "(#10) [104429,175886,113983,258185,43619,48046,21364,225087,192093,184299]"
      ]
     },
     "execution_count": 43,
     "metadata": {},
     "output_type": "execute_result"
    }
   ],
   "source": [
    "n_users = len(dense_dls.cats['user'].unique())\n",
    "user_idxs = torch.full((n_users, 1), user_index, dtype=int).cuda()\n",
    "all_users = torch.tensor(dense_dls.cats['user'].values).unique().unsqueeze(1).cuda()\n",
    "pairs = torch.cat((user_idxs, all_users), -1)\n",
    "top_10_indices = model(pairs).argsort(0)[:10]\n",
    "\n",
    "top_10_buddies = dense_dls.classes['user'][top_10_indices]\n",
    "top_10_buddies"
   ]
  },
  {
   "attachments": {},
   "cell_type": "markdown",
   "metadata": {},
   "source": [
    "# Conclusion\n",
    "In this post I've covered:\n",
    "\n",
    "- how to load a dataset into fastai\n",
    "- how to take the dot product of two vectors\n",
    "- building a custom PyTorch model which inherits from pytorch's Module class and contains a forward() method and a couple of embedding layers for the input features\n",
    "- training a model on a denser subset of the data to enable faster model training\n",
    "- the role of bias and factors in the embedding matrices\n",
    "- How to get a book reccomendation for a given user\n",
    "- How to find users with similar tastes in the dataset. \n",
    "\n",
    "I was able to train a dot product based model with embedding layers on both the input features, and get book reccomendations for a given user. "
   ]
  },
  {
   "attachments": {},
   "cell_type": "markdown",
   "metadata": {},
   "source": [
    "\n",
    "### References\n",
    "\n",
    "http://fast.ai\n",
    "\n",
    "\n",
    "[Guo, Cheng et al. “Entity Embeddings of Categorical Variables”](https://arxiv.org/pdf/1604.06737.pdf)"
   ]
  }
 ],
 "metadata": {
  "kernelspec": {
   "display_name": "Python 3",
   "language": "python",
   "name": "python3"
  },
  "language_info": {
   "codemirror_mode": {
    "name": "ipython",
    "version": 3
   },
   "file_extension": ".py",
   "mimetype": "text/x-python",
   "name": "python",
   "nbconvert_exporter": "python",
   "pygments_lexer": "ipython3",
   "version": "3.10.10"
  }
 },
 "nbformat": 4,
 "nbformat_minor": 4
}
